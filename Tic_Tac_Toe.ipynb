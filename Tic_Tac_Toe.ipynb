{
  "cells": [
    {
      "cell_type": "markdown",
      "metadata": {
        "id": "r44qh5UAP-27"
      },
      "source": [
        "# Tic Tac Toe\n",
        "\n",
        "\n",
        "* 2 players are able to play the game (both sitting at the same computer)\n",
        "\n",
        "\n"
      ]
    },
    {
      "cell_type": "code",
      "source": [
        "# display board indices before gameplay\n",
        "def display_indices():\n",
        "  print([1,2,3])\n",
        "  print([4,5,6])\n",
        "  print([7,8,9])"
      ],
      "metadata": {
        "id": "YnTW5yueVCZD"
      },
      "execution_count": 6,
      "outputs": []
    },
    {
      "cell_type": "code",
      "source": [
        "# display board\n",
        "def display(game_row1,game_row2,game_row3):\n",
        "  print(game_row1)\n",
        "  print(game_row2)\n",
        "  print(game_row3)"
      ],
      "metadata": {
        "id": "_auaG1obQQd5"
      },
      "execution_count": 7,
      "outputs": []
    },
    {
      "cell_type": "code",
      "source": [
        "# differentiating player 1 and player 2's signs\n",
        "def P1_P2():\n",
        "  print(\"Current turn: Player 1\")\n",
        "  \n",
        "  P1_sign= \"\"\n",
        "  P2_sign= \"\"\n",
        "\n",
        "  while P1_sign not in [\"X\",\"O\",\"x\",\"o\"]:\n",
        "    P1_sign= input(\"Would you like to be X or O? \")\n",
        "\n",
        "    if P1_sign not in [\"X\",\"O\",\"x\",\"o\"]:\n",
        "      print(\"Sorry, that option is not available. Please choose EITHER X or O\\n\")\n",
        "\n",
        "  if P1_sign==\"X\" or P1_sign==\"x\":\n",
        "    P2_sign=\"O\"\n",
        "    P1_sign=\"X\"\n",
        "  elif P1_sign==\"O\" or P1_sign==\"o\":\n",
        "    P2_sign=\"X\"\n",
        "    P1_sign=\"O\"\n",
        "\n",
        "  return (P1_sign, P2_sign)"
      ],
      "metadata": {
        "id": "SBETam85VlLw"
      },
      "execution_count": 8,
      "outputs": []
    },
    {
      "cell_type": "code",
      "source": [
        "# user input to choose a position\n",
        "def user_choice():\n",
        "  choice = \" \"\n",
        "  acceptable__list=list(range(1,10))\n",
        "  while choice.isdigit()==False or int(choice) not in acceptable__list:\n",
        "\n",
        "    choice= input(\"Input a position index (1-9): \")\n",
        "\n",
        "    if choice.isdigit()==False:\n",
        "      print(\"Sorry, this is not a number!\\n\")\n",
        "    \n",
        "    elif int(choice) not in acceptable__list:\n",
        "      print(\"Sorry, this number is out of range. Please provide a number between 1 and 9\\n\")\n",
        "  \n",
        "  return int(choice)"
      ],
      "metadata": {
        "id": "0l0BHWnkevE1"
      },
      "execution_count": 9,
      "outputs": []
    },
    {
      "cell_type": "code",
      "source": [
        "# update board\n",
        "def board_update(game_row1,game_row2,game_row3,position,player_sign):\n",
        "    if position in range(1,4):\n",
        "      game_row1[position-1]=player_sign\n",
        "    elif position in range(4,7):\n",
        "      game_row2[position-4]=player_sign\n",
        "    else:\n",
        "      game_row3[position-7]=player_sign"
      ],
      "metadata": {
        "id": "1dkm1cKgRaXI"
      },
      "execution_count": 10,
      "outputs": []
    },
    {
      "cell_type": "code",
      "source": [
        "# check if the game is over\n",
        "def game_over(game_row1,game_row2,game_row3):\n",
        "  '''\n",
        "  Return True if there's a win, False if there's no winner yet. Also returns the winning sign \n",
        "  '''\n",
        "  # If a row or col or diagonal has all same elements (that is not a blank), it's a win! \n",
        "  # Show which player won\n",
        "  \n",
        "  # row\n",
        "  if (game_row1[0] !=\"\" and game_row1[0]==game_row1[1]==game_row1[2]) or (game_row2[0] !=\"\" and game_row2[0]==game_row2[1]==game_row2[2]) or (game_row3[0] !=\"\" and game_row3[0]==game_row3[1]==game_row3[2]):\n",
        "    return (True,game_row1[0])\n",
        "  \n",
        "  # col\n",
        "  else:\n",
        "    for i in range(len(game_row1)):\n",
        "      if game_row1[i]!=\"\" and (game_row1[i]==game_row2[i]==game_row3[i]):\n",
        "        return (True,game_row1[i])\n",
        "    \n",
        "    # diagonal\n",
        "    if game_row2[1]!=\"\" and (game_row1[0]==game_row2[1]==game_row3[2] or game_row1[2]==game_row2[1]==game_row3[0]):\n",
        "      return (True,game_row2[1])\n",
        "    else:\n",
        "      return (False,\"\")\n",
        "\n",
        "  return (False,\"\")"
      ],
      "metadata": {
        "id": "Iy5tDUnWn6pG"
      },
      "execution_count": 11,
      "outputs": []
    },
    {
      "cell_type": "code",
      "source": [
        "# ask user if they want to play again\n",
        "def gameon_choice():\n",
        "  choice=\" \"\n",
        "  acceptable__list=[\"Y\", \"y\", \"N\",\"n\"]\n",
        "  \n",
        "  while choice not in acceptable__list:\n",
        "\n",
        "    choice= input(\"Continue playing? (Y/N): \")\n",
        "\n",
        "    if choice not in acceptable__list:\n",
        "      print(\"Sorry, this option is not available, please choose Y or N: \")\n",
        "    \n",
        "  if choice==\"Y\" or choice==\"y\":\n",
        "      return True\n",
        "    \n",
        "  else:\n",
        "    return False"
      ],
      "metadata": {
        "id": "yKXSaSD1RgBl"
      },
      "execution_count": 12,
      "outputs": []
    },
    {
      "cell_type": "code",
      "source": [
        "# clear output and reset gameplay\n",
        "from IPython.display import clear_output\n",
        "def clear_board(play_again, stop,game_row1,game_row2,game_row3,used_positions):\n",
        "  if play_again==True:\n",
        "    clear_output()\n",
        "    stop=False\n",
        "    game_row1=[\"\",\"\",\"\"]\n",
        "    game_row2=[\"\",\"\",\"\"]\n",
        "    game_row3=[\"\",\"\",\"\"]\n",
        "    used_positions=[]\n",
        "  else:\n",
        "    print(\"Thanks for playing, I hope you had fun!\")\n",
        "  return (stop,game_row1,game_row2,game_row3,used_positions)"
      ],
      "metadata": {
        "id": "gXePGsLEEMv5"
      },
      "execution_count": 13,
      "outputs": []
    },
    {
      "cell_type": "code",
      "source": [
        "def gameplay():\n",
        "  game_row1=[\"\",\"\",\"\"]\n",
        "  game_row2=[\"\",\"\",\"\"]\n",
        "  game_row3=[\"\",\"\",\"\"]\n",
        "  print(\"Welcome to Ann's 2-player Tic Tac Toe!\")\n",
        "  print(\"You will be asked to input an index in the form of a whole number between 1 and 9 to indicate the position\")\n",
        "  print(\"where you'd like to leave your mark on the board\\n\")\n",
        "  print(\"For your reference, the board layout and corresponding index labelling is as shown below: \\n\")\n",
        "  display_indices()\n",
        "  print(\"\\nBefore we begin, Player 1 please select your sign (letter X or letter O)! \\n\")\n",
        "  (P1_sign, P2_sign)= P1_P2()\n",
        "  print(\"\\nAwesome, let's begin!\\n\")\n",
        "  \n",
        "  # to keep track of chosen positions- will not allow overwriting previously occupied positions\n",
        "  used_positions=[]\n",
        "\n",
        "  # while there's no winner yet\n",
        "  stop= False\n",
        "  while not stop:\n",
        "    \n",
        "    print(\"Current turn: Player 1\")\n",
        "    used = False\n",
        "    P1_position= user_choice()\n",
        "    while used== False:\n",
        "      # if this is not the first round, and the selected position is alreayd occupied\n",
        "      if len(used_positions)>1 and P1_position in used_positions:\n",
        "        used=True\n",
        "        while used==True:\n",
        "          print(\"\\nERROR: This position is occupied! Please chooose another index\\n\")\n",
        "          print(\"Current board:\")\n",
        "          display(game_row1,game_row2,game_row3)\n",
        "          print(\"\\n\")\n",
        "          print(\"Current turn: Player 1\")\n",
        "          P1_position= user_choice()\n",
        "          if P1_position not in used_positions:\n",
        "            used=False\n",
        "            break\n",
        "      elif P1_position not in used_positions:\n",
        "        used =False\n",
        "        board_update(game_row1,game_row2,game_row3,P1_position,P1_sign)\n",
        "        display(game_row1,game_row2,game_row3)\n",
        "        used_positions.append(P1_position)\n",
        "        break\n",
        "    \n",
        "    # check if player 1 won \n",
        "    stop,winner = game_over(game_row1,game_row2,game_row3)\n",
        "    if stop==True:\n",
        "      if winner== P1_sign:\n",
        "        print(\"\\n---GAME OVER--- Player 1 is the winner!\\n\")\n",
        "        # if player wants to play again, clear board and restart loop\n",
        "        # if not, end program\n",
        "        play= gameon_choice()\n",
        "        stop,game_row1,game_row2,game_row3,used_positions= clear_board(play,stop,game_row1,game_row2,game_row3,used_positions)\n",
        "        if play==False:\n",
        "          break\n",
        "      if winner==P2_sign:\n",
        "        print(\"\\n---GAME OVER--- Player 2 is the winner!\\n\")\n",
        "        play= gameon_choice()\n",
        "        stop,game_row1,game_row2,game_row3,used_positions= clear_board(play,stop,game_row1,game_row2,game_row3,used_positions)\n",
        "        if play==False:\n",
        "          break\n",
        "    elif stop==False and len(used_positions)==9:\n",
        "      # there is a tie if all the positions are filled and there's no winner yet\n",
        "        print(\"\\n---GAME OVER--- It's a tie!\\n\")\n",
        "        play= gameon_choice()\n",
        "        stop,game_row1,game_row2,game_row3,used_positions= clear_board(play,stop,game_row1,game_row2,game_row3,used_positions)\n",
        "        if play==False:\n",
        "          break\n",
        "    else:\n",
        "      pass\n",
        "\n",
        "    print(\"\\n\")\n",
        "\n",
        "    print(\"Current turn: Player 2\")\n",
        "    used = False\n",
        "    P2_position= user_choice()\n",
        "    while used== False:\n",
        "      if len(used_positions)>1 and P2_position in used_positions:\n",
        "        used=True\n",
        "        while used==True:\n",
        "          print(\"\\nERROR: This position is occupied! Please chooose another index\\n\")\n",
        "          print(\"Current board:\")\n",
        "          display(game_row1,game_row2,game_row3)\n",
        "          print(\"\\n\")\n",
        "          print(\"Current turn: Player 2\")\n",
        "          P2_position= user_choice()\n",
        "          if P2_position not in used_positions:\n",
        "            used=False\n",
        "            break\n",
        "      elif P2_position not in used_positions:\n",
        "        used =False\n",
        "        board_update(game_row1,game_row2,game_row3,P2_position,P2_sign)\n",
        "        display(game_row1,game_row2,game_row3)\n",
        "        used_positions.append(P2_position)\n",
        "        break\n",
        "    print(\"\\n\")\n",
        "\n",
        "    # check if player 2 won \n",
        "    stop,winner = game_over(game_row1,game_row2,game_row3)\n",
        "    if stop==True:\n",
        "      if winner== P1_sign:\n",
        "        print(\"\\n---GAME OVER--- Player 1 is the winner!\\n\")\n",
        "        play= gameon_choice()\n",
        "        stop,game_row1,game_row2,game_row3,used_positions= clear_board(play,stop,game_row1,game_row2,game_row3,used_positions)\n",
        "        if play==False:\n",
        "          break\n",
        "      if winner==P2_sign:\n",
        "        print(\"\\n---GAME OVER--- Player 2 is the winner!\\n\")\n",
        "        play= gameon_choice()\n",
        "        stop,game_row1,game_row2,game_row3,used_positions= clear_board(play,stop,game_row1,game_row2,game_row3,used_positions)\n",
        "        if play==False:\n",
        "          break\n",
        "    elif stop==False and len(used_positions)==9:\n",
        "        print(\"\\n---GAME OVER--- It's a tie!\\n\")\n",
        "        play= gameon_choice()\n",
        "        stop,game_row1,game_row2,game_row3,used_positions= clear_board(play,stop,game_row1,game_row2,game_row3,used_positions)\n",
        "        if play==False:\n",
        "          break\n",
        "    else:\n",
        "      pass"
      ],
      "metadata": {
        "id": "25E7f6bAe1qc"
      },
      "execution_count": 14,
      "outputs": []
    },
    {
      "cell_type": "code",
      "source": [
        "# play the game!\n",
        "gameplay()"
      ],
      "metadata": {
        "id": "nG1z6E0j9l-S"
      },
      "execution_count": 1,
      "outputs": []
    }
  ],
  "metadata": {
    "kernelspec": {
      "display_name": "Python 3",
      "language": "python",
      "name": "python3"
    },
    "language_info": {
      "codemirror_mode": {
        "name": "ipython",
        "version": 3
      },
      "file_extension": ".py",
      "mimetype": "text/x-python",
      "name": "python",
      "nbconvert_exporter": "python",
      "pygments_lexer": "ipython3",
      "version": "3.6.6"
    },
    "colab": {
      "name": "Milestone1- Tic Tac Toe.ipynb",
      "provenance": [],
      "collapsed_sections": []
    }
  },
  "nbformat": 4,
  "nbformat_minor": 0
}